{
 "cells": [
  {
   "cell_type": "code",
   "execution_count": null,
   "metadata": {},
   "outputs": [],
   "source": [
    "import os\n",
    "import numpy as np\n",
    "import matplotlib.pyplot as plt\n",
    "from PIL import Image\n",
    "from keras.preprocessing.image import img_to_array, load_img\n",
    "\n",
    "from keras import backend as K\n",
    "\n",
    "from keras.utils import to_categorical\n",
    "from keras.applications.vgg16 import VGG16\n",
    "from keras.applications.resnet50 import ResNet50\n",
    "\n",
    "from keras.layers import *\n",
    "from keras.models import Model, load_model\n",
    "from keras.optimizers import Adam\n",
    "from keras.callbacks import ModelCheckpoint\n",
    "from keras.layers import Reshape\n",
    "from keras.utils.vis_utils import plot_model\n",
    "\n",
    "import threading\n",
    "import pickle\n",
    "from IPython.display import Image, display"
   ]
  },
  {
   "cell_type": "code",
   "execution_count": null,
   "metadata": {},
   "outputs": [],
   "source": [
    "train_path = \"dashcam/frames/training/positive\"\n",
    "test_path = \"dashcam/frames/testing/positive\"\n",
    "\n",
    "frames_path = {}\n",
    "\n",
    "train_data = []\n",
    "test_data = []"
   ]
  },
  {
   "cell_type": "code",
   "execution_count": null,
   "metadata": {},
   "outputs": [],
   "source": [
    "def make_sequences(frames, mode):\n",
    "    frames = sorted(frames)\n",
    "    \n",
    "    for i in range(12):\n",
    "        sequence = [frames[j] for j in range(i, 96, 12)]\n",
    "        if(mode == \"train\"):\n",
    "            train_data.append(sequence)\n",
    "        elif(mode == \"test\"):\n",
    "            test_data.append(sequence)  "
   ]
  },
  {
   "cell_type": "code",
   "execution_count": null,
   "metadata": {},
   "outputs": [],
   "source": [
    "for category in [\"train\", \"test\"]:\n",
    "    data_path = train_path if category == \"train\" else test_path\n",
    "    \n",
    "    for video in os.listdir(data_path):\n",
    "        frames = []\n",
    "        for frame in os.listdir(data_path + \"/\" + video):\n",
    "            frames.append(video + \"_\" + frame)\n",
    "            frames_path[video + \"_\" + frame] = data_path + \"/\" + video\n",
    "        if(len(frames) == 100):\n",
    "            make_sequences(frames, category)"
   ]
  },
  {
   "cell_type": "code",
   "execution_count": null,
   "metadata": {},
   "outputs": [],
   "source": [
    "def image_to_tensor(filename):\n",
    "  \n",
    "    tokens = filename.split(\"_\")\n",
    "    im = load_img(frames_path[filename] + \"/frame_\" + tokens[2], target_size = (128, 128))\n",
    "    im = img_to_array(im)\n",
    "    im =  im / 255.\n",
    "\n",
    "    return im"
   ]
  },
  {
   "cell_type": "code",
   "execution_count": null,
   "metadata": {},
   "outputs": [],
   "source": [
    "def sequence_prep(sequence):\n",
    "    x = sequence\n",
    "    images = []\n",
    "\n",
    "    for filename in x:\n",
    "        im = image_to_tensor(filename)\n",
    "        images.append(im)\n",
    "    images = np.array(images)  # (8, 256, 256, 3)\n",
    "    return images"
   ]
  },
  {
   "cell_type": "code",
   "execution_count": null,
   "metadata": {},
   "outputs": [],
   "source": [
    "def batch_prep(batch):\n",
    "  \n",
    "    batch_x = []\n",
    "    batch_y = []\n",
    "\n",
    "    for sequence in batch:\n",
    "        images = sequence_prep(sequence)\n",
    "        batch_x.append(images[:7])\n",
    "        batch_y.append(images[1:])\n",
    "\n",
    "    batch_x = np.array(batch_x)\n",
    "    batch_y = np.array(batch_y)\n",
    "\n",
    "    #print(\"X: (batch_size, no_of_frames, img_height, img_width, channels) = \" + str(batch_x.shape))\n",
    "    #print(\"Y: (batch_size, no_of_frames, img_height, img_width, channels) = \" + str(batch_y.shape))\n",
    "\n",
    "    return batch_x, batch_y"
   ]
  },
  {
   "cell_type": "code",
   "execution_count": null,
   "metadata": {},
   "outputs": [],
   "source": [
    "class threadsafe_iterator:\n",
    "    def __init__(self, iterator):\n",
    "        self.iterator = iterator\n",
    "        self.lock = threading.Lock()\n",
    "\n",
    "    def __iter__(self):\n",
    "        return self\n",
    "\n",
    "    def __next__(self):\n",
    "        with self.lock:\n",
    "            return next(self.iterator)\n",
    "\n",
    "def threadsafe_generator(func):\n",
    "    \"\"\"Decorator\"\"\"\n",
    "    def gen(*a, **kw):\n",
    "        return threadsafe_iterator(func(*a, **kw))\n",
    "    return gen"
   ]
  },
  {
   "cell_type": "code",
   "execution_count": null,
   "metadata": {},
   "outputs": [],
   "source": [
    "@threadsafe_generator\n",
    "def data_generator(mode):\n",
    "    \n",
    "    data = train_data if mode == \"train\" else test_data\n",
    "    np.random.shuffle(data)\n",
    "  \n",
    "    batch_size = 10\n",
    "    nb_batch = len(data) // batch_size\n",
    "    \n",
    "    print(\"Mode: \" + mode + \" => data generator in work to produce: \" + str(nb_batch) + \" batches from \" + str(len(data)) + \" data instances. \")\n",
    "\n",
    "    while True:\n",
    "        for i in range(nb_batch):\n",
    "\n",
    "            beg = i * batch_size\n",
    "            end = (i * batch_size + batch_size) if i * batch_size < len(data) else -1\n",
    "\n",
    "            batch = data[beg : end]\n",
    "            batch_x, batch_y = batch_prep(batch)\n",
    "            \n",
    "            yield batch_x, batch_y"
   ]
  },
  {
   "cell_type": "code",
   "execution_count": null,
   "metadata": {},
   "outputs": [],
   "source": [
    "def conv2d(x, n_filters = 64 , kernel_size = 3, batchnorm = True  , name = None):\n",
    "\n",
    "    x = TimeDistributed(Conv2D(filters = n_filters, kernel_size = (kernel_size, kernel_size),\n",
    "               kernel_initializer = 'glorot_uniform', padding = 'same', activation=None , name=name))(x)\n",
    "    if batchnorm:\n",
    "        x = TimeDistributed(BatchNormalization())(x)\n",
    "    x = TimeDistributed(Activation('relu'))(x)\n",
    "    return x\n",
    "\n",
    "def conv2d_block(x , n_filters=64 , kernel_size = 3, batchnorm = True , name = None):\n",
    "    x = conv2d(x , n_filters , kernel_size , batchnorm  , name= name+\"_conv1\")\n",
    "    x = conv2d(x , n_filters , kernel_size , batchnorm  , name= name+\"_conv2\")\n",
    "    return x"
   ]
  },
  {
   "cell_type": "code",
   "execution_count": null,
   "metadata": {},
   "outputs": [],
   "source": [
    "shape = (128, 128, 3)\n",
    "n_filters = 32\n",
    "batchnorm = True\n",
    "time_step = 7\n",
    "\n",
    "inp = Input(shape = (time_step,)+shape)\n",
    "\n",
    "\n",
    "c1 = conv2d_block(inp, n_filters * 1, kernel_size = 3, batchnorm = batchnorm , name = 'c1')\n",
    "p1 = TimeDistributed(MaxPooling2D((2, 2)))(c1)\n",
    "\n",
    "\n",
    "c2 = conv2d_block(p1, n_filters * 2, kernel_size = 3, batchnorm = batchnorm , name=\"c2\")\n",
    "p2 = TimeDistributed(MaxPooling2D((2, 2)))(c2)\n",
    "\n",
    "c3 = conv2d_block(p2, n_filters * 4, kernel_size = 3, batchnorm = batchnorm , name = \"c3\")\n",
    "p3 = TimeDistributed(MaxPooling2D((2, 2)))(c3)\n",
    "\n",
    "c4 = conv2d_block(p3, n_filters * 8, kernel_size = 3, batchnorm = batchnorm , name = \"c4\")\n",
    "p4 = TimeDistributed(MaxPooling2D((2, 2)))(c4)\n",
    "\n",
    "c5 = conv2d_block(p4, n_filters * 16, kernel_size = 3, batchnorm = batchnorm , name = \"c5\")\n",
    "\n",
    "seq = ConvLSTM2D(filters = n_filters * 16 , kernel_size = 1, strides = 1, padding='same' , return_sequences=True ,  name='seq_bottleneck' )(c5)  ## Remember since we are intending to recreate the frames we are intending it to be an identity function i.e use (1,1) filters\n",
    "\n",
    "\n",
    "u6 = TimeDistributed(Conv2DTranspose(n_filters * 8, (3, 3), strides = (2, 2), padding = 'same' , name = \"up1\"))(seq)\n",
    "u6 = Concatenate(axis = -1)([u6, c4])\n",
    "c6 = conv2d_block(u6, n_filters * 8, kernel_size = 3, batchnorm = batchnorm , name = \"c6\")\n",
    "\n",
    "u7 = TimeDistributed(Conv2DTranspose(n_filters * 4, (3, 3), strides = (2, 2), padding = 'same' , name = \"up2\"))(c6)\n",
    "u7 = Concatenate(axis = -1)([u7, c3])\n",
    "c7 = conv2d_block(u7, n_filters * 4, kernel_size = 3, batchnorm = batchnorm , name = \"c7\")\n",
    "\n",
    "u8 = TimeDistributed(Conv2DTranspose(n_filters * 2, (3, 3), strides = (2, 2), padding = 'same' , name = \"up3\"))(c7)\n",
    "u8 = Concatenate(axis = -1)([u8, c2])\n",
    "c8 = conv2d_block(u8, n_filters * 2, kernel_size = 3, batchnorm = batchnorm , name = \"c8\")\n",
    "\n",
    "u9 = TimeDistributed(Conv2DTranspose(n_filters * 1, (3, 3), strides = (2, 2), padding = 'same' , name = \"up4\"))(c8)\n",
    "u9 = Concatenate(axis = -1)([u9, c1])\n",
    "c9 = conv2d_block(u9, n_filters * 1, kernel_size = 3, batchnorm = batchnorm , name = \"c9\")\n",
    "\n",
    "out = TimeDistributed(Conv2D(filters = 3, kernel_size = 1 ,kernel_initializer = 'glorot_uniform', padding = 'same' , activation='relu'))(c9)\n",
    "\n",
    "u_model = Model(inputs = inp , outputs = out)\n",
    "u_model.summary()\n",
    "\n",
    "optimizer = Adam(lr=1e-3)\n",
    "metrics = ['accuracy']\n",
    "u_model.compile(loss = \"mean_squared_error\", optimizer = optimizer, metrics = metrics)\n"
   ]
  },
  {
   "cell_type": "code",
   "execution_count": null,
   "metadata": {},
   "outputs": [],
   "source": [
    "checkpointer = ModelCheckpoint(\n",
    "        filepath=os.path.join('saved_models', 'future_frame_generate_skip12', 'future_frame_regenerate' + \\\n",
    "            '.{epoch:03d}-{loss:.3f}.hdf5'),\n",
    "        verbose=1,\n",
    "        save_weights_only=True,\n",
    "        save_best_only=True)\n",
    "\n",
    "train_datagen = data_generator(\"train\")\n",
    "test_datagen = data_generator(\"test\")\n",
    "\n",
    "history = u_model.fit_generator(generator = train_datagen, steps_per_epoch = 546, epochs = 50, verbose = 1, workers = 4, shuffle = False, validation_data = test_datagen, validation_steps = 180, callbacks = [checkpointer], initial_epoch = 0)"
   ]
  },
  {
   "cell_type": "code",
   "execution_count": null,
   "metadata": {},
   "outputs": [],
   "source": [
    "pickle_out = open(\"saved_models/future_frame_generate_skip12/history_future_frame_generate_skip12_e50.pickle\",\"wb\")\n",
    "pickle.dump(history.history, pickle_out)\n",
    "pickle_out.close()"
   ]
  },
  {
   "cell_type": "code",
   "execution_count": null,
   "metadata": {},
   "outputs": [],
   "source": [
    "model_inference(\"dashcam/frames/testing/positive/000508\")"
   ]
  },
  {
   "cell_type": "code",
   "execution_count": 13,
   "metadata": {},
   "outputs": [],
   "source": [
    "pickle_in = open(\"saved_models/future_frame_generate_skip12/history_future_frame_generate_skip12_e50.pickle\",\"rb\")\n",
    "loaded_history = pickle.load(pickle_in)\n",
    "\n",
    "val_loss = loaded_history[\"val_loss\"]\n",
    "val_acc = loaded_history[\"val_acc\"]\n",
    "\n",
    "training_loss = loaded_history[\"loss\"]\n",
    "training_acc = loaded_history[\"acc\"]\n",
    "\n",
    "epochs = range(50)"
   ]
  },
  {
   "cell_type": "code",
   "execution_count": 14,
   "metadata": {},
   "outputs": [
    {
     "data": {
      "image/png": "[encoded data removed]",
      "text/plain": [
       "<Figure size 432x288 with 1 Axes>"
      ]
     },
     "metadata": {
      "needs_background": "light"
     },
     "output_type": "display_data"
    }
   ],
   "source": [
    "plt.plot(epochs, val_loss, '-b', label='validation loss')\n",
    "plt.plot(epochs, val_acc, '-r', label='validation accuracy')\n",
    "\n",
    "plt.xlabel(\"50 epochs\")\n",
    "plt.legend(loc='upper left')\n",
    "plt.title(\"Future Frame Generate (skip rate = 12) - Validation\")\n",
    "\n",
    "plt.savefig(\"figures/future_frame_generate_skip12_val\" + \".png\")  \n",
    "plt.show()"
   ]
  },
  {
   "cell_type": "code",
   "execution_count": 15,
   "metadata": {},
   "outputs": [
    {
     "data": {
      "image/png": "[encoded data removed]",
      "text/plain": [
       "<Figure size 432x288 with 1 Axes>"
      ]
     },
     "metadata": {
      "needs_background": "light"
     },
     "output_type": "display_data"
    }
   ],
   "source": [
    "plt.plot(epochs, training_loss, '-b', label='training loss')\n",
    "plt.plot(epochs, training_acc, '-r', label='training accuracy')\n",
    "\n",
    "plt.xlabel(\"50 epochs\")\n",
    "plt.legend(loc='upper left')\n",
    "plt.title(\"Future Frame Generate (skip rate = 12) - Training\")\n",
    "\n",
    "plt.savefig(\"figures/future_frame_generate_skip12_train\" + \".png\")  \n",
    "plt.show()"
   ]
  },
  {
   "cell_type": "code",
   "execution_count": null,
   "metadata": {},
   "outputs": [],
   "source": [
    "def model_inference(video_path): \n",
    "    \n",
    "    file_idx = video_path.split(\"/\")[-1]\n",
    "    \n",
    "    frame_names = []\n",
    "    for frame in os.listdir(video_path):\n",
    "        frame_names.append(frame)\n",
    "    frame_names = sorted(frame_names)\n",
    "\n",
    "    frames = []\n",
    "    for frame in frame_names:\n",
    "        img = load_img(video_path + \"/\" + frame, target_size = (256, 256))\n",
    "        img = img_to_array(img)\n",
    "        img =  img / 255.\n",
    "        frames.append(img)\n",
    "    frames = np.array(frames)\n",
    "\n",
    "    u_model.load_weights(\"saved_models/future_frame_generate_skip12/future_frame_regenerate.007-0.019.hdf5\")"
   ]
  },
  {
   "cell_type": "code",
   "execution_count": null,
   "metadata": {},
   "outputs": [],
   "source": [
    "model_inference(\"dashcam/frames/testing/positive/000508\")"
   ]
  }
 ],
 "metadata": {
  "kernelspec": {
   "display_name": "Python 3",
   "language": "python",
   "name": "python3"
  },
  "language_info": {
   "codemirror_mode": {
    "name": "ipython",
    "version": 3
   },
   "file_extension": ".py",
   "mimetype": "text/x-python",
   "name": "python",
   "nbconvert_exporter": "python",
   "pygments_lexer": "ipython3",
   "version": "3.7.3"
  }
 },
 "nbformat": 4,
 "nbformat_minor": 2
}
