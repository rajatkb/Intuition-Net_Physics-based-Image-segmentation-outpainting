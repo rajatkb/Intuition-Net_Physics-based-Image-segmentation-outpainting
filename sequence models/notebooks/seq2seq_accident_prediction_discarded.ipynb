{
 "cells": [
  {
   "cell_type": "code",
   "execution_count": null,
   "metadata": {},
   "outputs": [],
   "source": [
    "import os\n",
    "import numpy as np\n",
    "import matplotlib.pyplot as plt\n",
    "from PIL import Image\n",
    "from keras.preprocessing.image import img_to_array, load_img\n",
    "\n",
    "from keras import backend as K\n",
    "import keras\n",
    "\n",
    "from keras.utils import to_categorical\n",
    "from keras.applications.vgg16 import VGG16\n",
    "from keras.applications.resnet50 import ResNet50\n",
    "\n",
    "from keras.layers import *\n",
    "from keras.models import Model, load_model\n",
    "from keras.optimizers import Adam\n",
    "from keras.callbacks import ModelCheckpoint\n",
    "from keras.utils.vis_utils import plot_model\n",
    "\n",
    "import threading\n",
    "import pickle"
   ]
  },
  {
   "cell_type": "code",
   "execution_count": null,
   "metadata": {},
   "outputs": [],
   "source": [
    "train_path = \"dashcam/frames/training/positive\"\n",
    "test_path = \"dashcam/frames/testing/positive\"\n",
    "\n",
    "frames_path = {}\n",
    "\n",
    "train_data = []\n",
    "test_data = []"
   ]
  },
  {
   "cell_type": "code",
   "execution_count": null,
   "metadata": {},
   "outputs": [],
   "source": [
    "def make_sequences(frames, mode):\n",
    "    \n",
    "    frames = sorted(frames)\n",
    "    sequences = []\n",
    "\n",
    "    for i in range(0, 100, 25):\n",
    "        sequence = frames[i:(i + 25)]\n",
    "        if i < 75:\n",
    "            label = np.zeros(25)\n",
    "        else:\n",
    "            label = np.concatenate((np.zeros(15), np.ones(10)), axis = 0)\n",
    "        item = sequence, label\n",
    "        if(mode == \"train\"):\n",
    "            train_data.append(item)\n",
    "        elif(mode == \"test\"):\n",
    "            test_data.append(item)"
   ]
  },
  {
   "cell_type": "code",
   "execution_count": null,
   "metadata": {},
   "outputs": [],
   "source": [
    "for category in [\"train\", \"test\"]:\n",
    "    data_path = train_path if category == \"train\" else test_path\n",
    "    \n",
    "    for video in os.listdir(data_path):\n",
    "        frames = []\n",
    "        for frame in os.listdir(data_path + \"/\" + video):\n",
    "            frames.append(video + \"_\" + frame)\n",
    "            frames_path[video + \"_\" + frame] = data_path + \"/\" + video\n",
    "        if len(frames) == 100:\n",
    "            make_sequences(frames, category)"
   ]
  },
  {
   "cell_type": "code",
   "execution_count": null,
   "metadata": {},
   "outputs": [],
   "source": [
    "def image_to_tensor(filename):\n",
    "  \n",
    "    tokens = filename.split(\"_\")\n",
    "    im = load_img(frames_path[filename] + \"/frame_\" + tokens[2], target_size = (256, 256))\n",
    "    im = img_to_array(im)\n",
    "    im =  im / 255.\n",
    "    #plt.imshow(im.astype(np.uint8))\n",
    "\n",
    "    return im"
   ]
  },
  {
   "cell_type": "code",
   "execution_count": null,
   "metadata": {},
   "outputs": [],
   "source": [
    "def sequence_prep(sequence):\n",
    "  \n",
    "    x, y = sequence\n",
    "\n",
    "    images = []\n",
    "\n",
    "    for filename in x:\n",
    "        im = image_to_tensor(filename)\n",
    "        images.append(im)\n",
    "\n",
    "    images = np.array(images)  # (25, 256, 256, 3)\n",
    "    labels = np.reshape(y, (images.shape[0], 1))   # (25, 1)\n",
    "\n",
    "    return images, labels"
   ]
  },
  {
   "cell_type": "code",
   "execution_count": null,
   "metadata": {},
   "outputs": [],
   "source": [
    "def batch_prep(batch):\n",
    "  \n",
    "    batch_x = []\n",
    "    batch_y = []\n",
    "\n",
    "    for sequence in batch:\n",
    "        images, labels = sequence_prep(sequence)\n",
    "        batch_x.append(images)\n",
    "        batch_y.append(labels)\n",
    "\n",
    "    batch_x = np.array(batch_x)\n",
    "    batch_y = np.array(batch_y)\n",
    "\n",
    "    #print(\"(batch_size, no_of_frames, img_height, img_width, channels) = \" + str(batch_x.shape))\n",
    "    #print(\"(batch_size, no_of_frames, class_value) = \" + str(batch_y.shape))\n",
    "\n",
    "    return batch_x, batch_y"
   ]
  },
  {
   "cell_type": "code",
   "execution_count": null,
   "metadata": {},
   "outputs": [],
   "source": [
    "class threadsafe_iterator:\n",
    "    def __init__(self, iterator):\n",
    "        self.iterator = iterator\n",
    "        self.lock = threading.Lock()\n",
    "\n",
    "    def __iter__(self):\n",
    "        return self\n",
    "\n",
    "    def __next__(self):\n",
    "        with self.lock:\n",
    "            return next(self.iterator)\n",
    "\n",
    "def threadsafe_generator(func):\n",
    "    \"\"\"Decorator\"\"\"\n",
    "    def gen(*a, **kw):\n",
    "        return threadsafe_iterator(func(*a, **kw))\n",
    "    return gen"
   ]
  },
  {
   "cell_type": "code",
   "execution_count": null,
   "metadata": {},
   "outputs": [],
   "source": [
    "@threadsafe_generator\n",
    "def data_generator(mode):\n",
    "    \n",
    "    data = train_data if mode == \"train\" else test_data\n",
    "    np.random.shuffle(data)\n",
    "  \n",
    "    batch_size = 10\n",
    "    nb_batch = len(data) // batch_size\n",
    "    \n",
    "    print(\"Mode: \" + mode + \" => data generator in work to produce: \" + str(nb_batch) + \" batches from \" + str(len(data)) + \" data instances. \")\n",
    "\n",
    "    while True:\n",
    "        for i in range(nb_batch):\n",
    "\n",
    "            beg = i * batch_size\n",
    "            end = (i * batch_size + batch_size) if i * batch_size < len(data) else -1\n",
    "\n",
    "            batch = data[beg : end]\n",
    "            batch_x, batch_y = batch_prep(batch)\n",
    "            \n",
    "            batch_x_encoder = batch_x[:, :20, :, :, :]\n",
    "            batch_x_decoder = batch_x[:, 19:24, :, :, :]\n",
    "            batch_y_decoder = batch_y[:, 20:25, :]\n",
    "\n",
    "            yield [batch_x_encoder, batch_x_decoder], [batch_y_decoder]\n",
    "        \n",
    "# for i in range(5):\n",
    "#     for data in data_generator(\"test\"):\n",
    "#         x_batch, y_batch = data\n",
    "#         print(\"x_batch.shape: \" + str(x_batch.shape) + \" y_batch.shape: \" + str(y_batch.shape))\n"
   ]
  },
  {
   "cell_type": "code",
   "execution_count": null,
   "metadata": {},
   "outputs": [],
   "source": [
    "shape = (256,256,3)\n",
    "n_units = 512\n",
    "resnet = keras.applications.resnet50.ResNet50(include_top=False, weights='imagenet', input_tensor=None, input_shape=shape, pooling=\"max\")\n",
    "resnet.trainable = False\n",
    "for layer in resnet.layers:\n",
    "    layer.trainable = False\n",
    "inp = Input(shape)\n",
    "f = resnet(inp)\n",
    "f = Dense(n_units , activation='relu')(f)\n",
    "resnet = Model(inputs = inp , outputs = f , name=\"resnet_f\")\n",
    "\n",
    "resnet.summary()"
   ]
  },
  {
   "cell_type": "code",
   "execution_count": null,
   "metadata": {},
   "outputs": [],
   "source": [
    "def weighted_binary_crossentropy( y_true, y_pred, weight = 9.) :\n",
    "    y_true = K.clip(y_true, K.epsilon(), 1)\n",
    "    y_pred = K.clip(y_pred, K.epsilon(), 1)\n",
    "    logloss = -(y_true * K.log(y_pred) * weight + (1 - y_true) * K.log(1 - y_pred))\n",
    "    return K.mean( logloss, axis=-1)"
   ]
  },
  {
   "cell_type": "code",
   "execution_count": null,
   "metadata": {},
   "outputs": [],
   "source": [
    "enc_time_step = 20\n",
    "dec_time_step = 5\n",
    "\n",
    "encoder = LSTM(n_units , return_sequences=True , return_state=True , name=\"encoder\")\n",
    "decoder = LSTM(n_units , return_sequences=True , return_state=True , name=\"decoder\")\n",
    "decoder_dense1 = Dense(32 , activation = \"relu\")\n",
    "decoder_dense2 =  Dense(1 , activation =  \"sigmoid\")\n",
    "\n",
    "encoder_input = Input((enc_time_step,)+shape)\n",
    "cnn_features = TimeDistributed(resnet)(encoder_input)\n",
    "encoder_outputs , state_h , state_c = encoder(cnn_features)\n",
    "encoder_outputs = Dense(32 , activation = \"relu\")(Dropout(rate = 0.2)(encoder_outputs))\n",
    "encoder_outputs = Dense(1 , activation =  \"sigmoid\")(Dropout(rate = 0.2)(encoder_outputs))\n",
    "encoder_model = Model(inputs = encoder_input , outputs = [encoder_outputs , state_h , state_c])\n",
    "\n",
    "decoder_input = Input((dec_time_step,)+shape)\n",
    "cnn_features = TimeDistributed(resnet)(decoder_input)\n",
    "decoder_outputs , _ , _ = decoder(cnn_features , initial_state=[state_h , state_c])\n",
    "decoder_outputs = decoder_dense1(Dropout(rate = 0.2)(decoder_outputs))\n",
    "decoder_outputs = decoder_dense2(Dropout(rate = 0.2)(decoder_outputs))\n",
    "\n",
    "seq2seq_model = Model(inputs = [encoder_input,decoder_input] , outputs = [encoder_outputs,decoder_outputs])\n",
    "seq2seq_model.summary()\n",
    "\n",
    "optimizer = Adam(lr=1e-4)\n",
    "metrics = ['accuracy']\n",
    "seq2seq_model.compile(loss=[weighted_binary_crossentropy, weighted_binary_crossentropy], optimizer=optimizer, metrics=metrics)"
   ]
  },
  {
   "cell_type": "code",
   "execution_count": null,
   "metadata": {},
   "outputs": [],
   "source": [
    "inp = Input((enc_time_step,)+shape)\n",
    "features = TimeDistributed(resnet)(inp)\n",
    "_ , state_h , state_c = encoder(features)\n",
    "\n",
    "start_frame = Input((1,)+shape)\n",
    "features = TimeDistributed(resnet)(start_frame)\n",
    "pred = []\n",
    "\n",
    "for i in range(dec_time_step):\n",
    "    features , state_h , state_c = decoder(features , initial_state=[state_h , state_c])  # remove the inf infront , use the decoder layer already quoted above for the seq2seq model\n",
    "    decoder_outputs = decoder_dense1(features) # same here\n",
    "    decoder_outputs = decoder_dense2(decoder_outputs) # same here\n",
    "    pred+=[decoder_outputs]\n",
    "\n",
    "pred = Concatenate(axis = -2)(pred)\n",
    "seq2seq_inference = Model(inputs=[inp , start_frame] , outputs = pred)\n",
    "seq2seq_inference.summary()"
   ]
  },
  {
   "cell_type": "code",
   "execution_count": null,
   "metadata": {},
   "outputs": [],
   "source": [
    "checkpoint = ModelCheckpoint(\n",
    "        filepath=os.path.join('saved_models', 'seq2seq_accident_prediction_discarded', 'model_seq2seq_accident_prediction_discarded' + \\\n",
    "            '.{epoch:03d}-{loss:.3f}.hdf5'),\n",
    "        verbose=1,\n",
    "        save_weights_only=True,\n",
    "        monitor='val_loss',\n",
    "        save_best_only=True)\n",
    "\n",
    "train_datagen = data_generator(\"train\")\n",
    "test_datagen = data_generator(\"test\")\n",
    "\n",
    "history = seq2seq_model.fit_generator(generator = train_datagen, steps_per_epoch = 182, epochs = 40, verbose = 1, workers = 4, shuffle = False, callbacks = [checkpoint], validation_data = test_datagen, validation_steps = 60, initial_epoch = 0)"
   ]
  },
  {
   "cell_type": "code",
   "execution_count": null,
   "metadata": {},
   "outputs": [],
   "source": [
    "pickle_out = open(\"saved_models/seq2seq_accident_prediction/history_seq2seq_accident_prediction_discarded_e40.pickle\",\"wb\")\n",
    "pickle.dump(history.history, pickle_out)\n",
    "pickle_out.close()"
   ]
  },
  {
   "cell_type": "code",
   "execution_count": null,
   "metadata": {},
   "outputs": [],
   "source": [
    "def model_inference(video_path): \n",
    "    \n",
    "    file_idx = video_path.split(\"/\")[-1]\n",
    "    \n",
    "    frame_names = []\n",
    "    for frame in os.listdir(video_path):\n",
    "        frame_names.append(frame)\n",
    "    frame_names = sorted(frame_names)\n",
    "\n",
    "    frames = []\n",
    "    for frame in frame_names:\n",
    "        img = load_img(video_path + \"/\" + frame, target_size = (256, 256))\n",
    "        img = img_to_array(img)\n",
    "        img =  img / 255.\n",
    "        frames.append(img)\n",
    "    frames = np.array(frames)\n",
    "\n",
    "    seq2seq_model.load_weights(\"saved_models/seq2seq_accident_prediction_discarded/seq2seq_accident_prediction_discarded.036-0.801.hdf5\")\n",
    "    \n",
    "    for i in range(0, 100, 25):\n",
    "        predictions = []\n",
    "        input_sequence1 = frames[i : i + 20]\n",
    "        input_sequence1 = np.array([input_sequence1])\n",
    "        input_sequence2 = frames[i + 19]\n",
    "        input_sequence2 = np.array([[input_sequence2]])\n",
    "        pred = seq2seq_inference.predict([input_sequence1, input_sequence2])\n",
    "        pred = np.reshape(pred, (5, 1))      \n",
    "        for i in pred:\n",
    "            predictions.append(i[0])\n",
    "        print(predictions)\n",
    "\n",
    "#     plt.plot(range(100), predictions, '-b', label='validation activations')\n",
    "#     plt.ylabel(\"Final activations\")\n",
    "#     plt.xlabel(\"Frames - \" + file_idx)\n",
    "#     plt.title(\"Accident Classifier - Inference\")\n",
    "#     plt.show()"
   ]
  },
  {
   "cell_type": "code",
   "execution_count": null,
   "metadata": {},
   "outputs": [],
   "source": [
    "model_inference(\"dashcam/frames/testing/positive/000508\")"
   ]
  },
  {
   "cell_type": "code",
   "execution_count": 21,
   "metadata": {},
   "outputs": [],
   "source": [
    "pickle_in = open(\"saved_models/seq2seq_accident_prediction_discarded/history_seq2seq_accident_prediction_discarded_e10.pickle\",\"rb\")\n",
    "loaded_history = pickle.load(pickle_in)\n",
    "\n",
    "val_loss = loaded_history[\"val_loss\"]\n",
    "val_encoder_output_loss = loaded_history[\"val_encoder_output_loss\"]\n",
    "val_decoder_output_loss = loaded_history[\"val_decoder_output_loss\"]\n",
    "val_encoder_output_acc = loaded_history[\"val_encoder_output_acc\"]\n",
    "val_encoder_output_acc = loaded_history[\"val_encoder_output_acc\"]\n",
    "val_decoder_output_acc = loaded_history[\"val_decoder_output_acc\"]\n",
    "\n",
    "training_loss = loaded_history[\"loss\"]\n",
    "training_encoder_output_loss = loaded_history[\"encoder_output_loss\"]\n",
    "training_decoder_output_loss = loaded_history[\"decoder_output_loss\"]\n",
    "training_encoder_output_acc = loaded_history[\"encoder_output_acc\"]\n",
    "training_decoder_output_acc = loaded_history[\"decoder_output_acc\"]\n",
    "\n",
    "epochs = range(10)"
   ]
  },
  {
   "cell_type": "code",
   "execution_count": 22,
   "metadata": {},
   "outputs": [
    {
     "data": {
      "image/png": "[encoded data removed]",
      "text/plain": [
       "<Figure size 432x288 with 1 Axes>"
      ]
     },
     "metadata": {
      "needs_background": "light"
     },
     "output_type": "display_data"
    }
   ],
   "source": [
    "plt.plot(epochs, val_decoder_output_loss, '-b', label='validation decoder loss')\n",
    "plt.plot(epochs, val_decoder_output_acc, '-r', label='validation decoder accuracy')\n",
    "\n",
    "plt.xlabel(\"10 epochs\")\n",
    "plt.legend(loc='upper left')\n",
    "plt.title(\"Seq2Seq Accident Prediction - Validation\")\n",
    "\n",
    "plt.savefig(\"figures/seq2seq_accident_prediction_discarded_e10_val\" + \".png\")  \n",
    "plt.show()"
   ]
  },
  {
   "cell_type": "code",
   "execution_count": 23,
   "metadata": {},
   "outputs": [
    {
     "data": {
      "image/png": "[encoded data removed]",
      "text/plain": [
       "<Figure size 432x288 with 1 Axes>"
      ]
     },
     "metadata": {
      "needs_background": "light"
     },
     "output_type": "display_data"
    }
   ],
   "source": [
    "plt.plot(epochs, training_decoder_output_loss, '-b', label='training decoder loss')\n",
    "plt.plot(epochs, training_decoder_output_acc, '-r', label='training decoder accuracy')\n",
    "\n",
    "plt.xlabel(\"10 epochs\")\n",
    "plt.legend(loc='upper left')\n",
    "plt.title(\"Seq2Seq Accident Prediction - Training\")\n",
    "\n",
    "plt.savefig(\"figures/seq2seq_accident_prediction_e20_train\" + \".png\")  \n",
    "plt.show()"
   ]
  },
  {
   "cell_type": "code",
   "execution_count": null,
   "metadata": {},
   "outputs": [],
   "source": []
  }
 ],
 "metadata": {
  "kernelspec": {
   "display_name": "Python 3",
   "language": "python",
   "name": "python3"
  },
  "language_info": {
   "codemirror_mode": {
    "name": "ipython",
    "version": 3
   },
   "file_extension": ".py",
   "mimetype": "text/x-python",
   "name": "python",
   "nbconvert_exporter": "python",
   "pygments_lexer": "ipython3",
   "version": "3.7.3"
  }
 },
 "nbformat": 4,
 "nbformat_minor": 2
}
