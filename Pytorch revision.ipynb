{
 "cells": [
  {
   "cell_type": "markdown",
   "metadata": {},
   "source": [
    "# PyTorch quick revision from the official tutorials for tensorflow people"
   ]
  },
  {
   "cell_type": "code",
   "execution_count": 1,
   "metadata": {},
   "outputs": [],
   "source": [
    "import torch"
   ]
  },
  {
   "cell_type": "code",
   "execution_count": 2,
   "metadata": {},
   "outputs": [
    {
     "name": "stdout",
     "output_type": "stream",
     "text": [
      "tensor([[0.0000, 0.0000, 0.0000],\n",
      "        [0.0000, 0.0000, 0.0000],\n",
      "        [0.0000, 0.0000, 0.0000],\n",
      "        [0.0000, 0.0000, 0.0000],\n",
      "        [0.0000, 0.0000, 0.0000]])\n"
     ]
    }
   ],
   "source": [
    "## We do things like we would have done in numpy i.e lot of manual calculation\n",
    "x = torch.empty(5,3)\n",
    "print(x)\n",
    "\n",
    "## yay an empty 5 x 3 matrix or a tensor as they call it"
   ]
  },
  {
   "cell_type": "code",
   "execution_count": 3,
   "metadata": {},
   "outputs": [
    {
     "name": "stdout",
     "output_type": "stream",
     "text": [
      "tensor([[0.3880, 0.8199, 0.2898],\n",
      "        [0.6449, 0.5578, 0.1688],\n",
      "        [0.2335, 0.7963, 0.8927],\n",
      "        [0.2032, 0.4299, 0.2409],\n",
      "        [0.6283, 0.1152, 0.4861]])\n"
     ]
    }
   ],
   "source": [
    "## Getting random variables range 0 , 1\n",
    "x = torch.rand(5,3)\n",
    "print(x)\n",
    "\n",
    "## and many more exist like this"
   ]
  },
  {
   "cell_type": "code",
   "execution_count": 4,
   "metadata": {},
   "outputs": [
    {
     "name": "stdout",
     "output_type": "stream",
     "text": [
      "tensor([4, 5, 6])\n",
      "torch.Size([3])\n"
     ]
    }
   ],
   "source": [
    "x = torch.tensor([4,5,6]) ## This is a tensor\n",
    "print(x)\n",
    "print(x.size()) ## this is a tupple so supports tupple operation\n",
    "## TO BE NOTED ALL THE NORMAL NUMPY OPPS ARE SUPPORTED HERE"
   ]
  },
  {
   "cell_type": "code",
   "execution_count": 5,
   "metadata": {},
   "outputs": [
    {
     "name": "stdout",
     "output_type": "stream",
     "text": [
      "tensor([[0.6338, 0.9851, 0.0262, 0.1332, 0.0523],\n",
      "        [0.7835, 0.9359, 0.4455, 0.3878, 0.5530],\n",
      "        [0.0714, 0.0435, 0.9916, 0.5912, 0.4978],\n",
      "        [0.3708, 0.5061, 0.1259, 0.2301, 0.2187],\n",
      "        [0.1493, 0.2586, 0.6372, 0.3214, 0.7729],\n",
      "        [0.5047, 0.0031, 0.7603, 0.5704, 0.4037],\n",
      "        [0.9949, 0.7993, 0.1529, 0.6301, 0.2469],\n",
      "        [0.6789, 0.4863, 0.9660, 0.5266, 0.2509],\n",
      "        [0.6879, 0.4490, 0.4139, 0.5726, 0.8976],\n",
      "        [0.2292, 0.6735, 0.6236, 0.9390, 0.0746],\n",
      "        [0.2812, 0.8519, 0.9704, 0.0922, 0.1541],\n",
      "        [0.4538, 0.0789, 0.3859, 0.7943, 0.2468]])\n"
     ]
    }
   ],
   "source": [
    "x = torch.rand((3,4,5))\n",
    "print(x.view((12,5))) ## This is how reshape tensors by view opp cool"
   ]
  },
  {
   "cell_type": "code",
   "execution_count": 6,
   "metadata": {},
   "outputs": [],
   "source": [
    "## Lets check whether CUDA IS AVAILABLE OR NOT\n",
    "## In my case it is. It's a mx150 mobile gpu\n",
    "if torch.cuda.is_available():\n",
    "    device = torch.device('cuda')"
   ]
  },
  {
   "cell_type": "code",
   "execution_count": 7,
   "metadata": {},
   "outputs": [],
   "source": [
    "y_cuda = torch.rand((5,3) , device = device)"
   ]
  },
  {
   "cell_type": "code",
   "execution_count": 8,
   "metadata": {},
   "outputs": [],
   "source": [
    "x_cuda = x.to(device) ## or we can move variable to the device and get a refference for it"
   ]
  },
  {
   "cell_type": "code",
   "execution_count": 9,
   "metadata": {},
   "outputs": [
    {
     "name": "stdout",
     "output_type": "stream",
     "text": [
      "tensor([[[0.6338, 0.9851, 0.0262, 0.1332, 0.0523],\n",
      "         [0.7835, 0.9359, 0.4455, 0.3878, 0.5530],\n",
      "         [0.0714, 0.0435, 0.9916, 0.5912, 0.4978],\n",
      "         [0.3708, 0.5061, 0.1259, 0.2301, 0.2187]],\n",
      "\n",
      "        [[0.1493, 0.2586, 0.6372, 0.3214, 0.7729],\n",
      "         [0.5047, 0.0031, 0.7603, 0.5704, 0.4037],\n",
      "         [0.9949, 0.7993, 0.1529, 0.6301, 0.2469],\n",
      "         [0.6789, 0.4863, 0.9660, 0.5266, 0.2509]],\n",
      "\n",
      "        [[0.6879, 0.4490, 0.4139, 0.5726, 0.8976],\n",
      "         [0.2292, 0.6735, 0.6236, 0.9390, 0.0746],\n",
      "         [0.2812, 0.8519, 0.9704, 0.0922, 0.1541],\n",
      "         [0.4538, 0.0789, 0.3859, 0.7943, 0.2468]]]) tensor([[[0.6338, 0.9851, 0.0262, 0.1332, 0.0523],\n",
      "         [0.7835, 0.9359, 0.4455, 0.3878, 0.5530],\n",
      "         [0.0714, 0.0435, 0.9916, 0.5912, 0.4978],\n",
      "         [0.3708, 0.5061, 0.1259, 0.2301, 0.2187]],\n",
      "\n",
      "        [[0.1493, 0.2586, 0.6372, 0.3214, 0.7729],\n",
      "         [0.5047, 0.0031, 0.7603, 0.5704, 0.4037],\n",
      "         [0.9949, 0.7993, 0.1529, 0.6301, 0.2469],\n",
      "         [0.6789, 0.4863, 0.9660, 0.5266, 0.2509]],\n",
      "\n",
      "        [[0.6879, 0.4490, 0.4139, 0.5726, 0.8976],\n",
      "         [0.2292, 0.6735, 0.6236, 0.9390, 0.0746],\n",
      "         [0.2812, 0.8519, 0.9704, 0.0922, 0.1541],\n",
      "         [0.4538, 0.0789, 0.3859, 0.7943, 0.2468]]], device='cuda:0')\n"
     ]
    }
   ],
   "source": [
    "print(x , x_cuda)\n",
    "## The output is pretty self evident duh ???"
   ]
  },
  {
   "cell_type": "markdown",
   "metadata": {},
   "source": [
    "But this is not why we use pytorch we need it for its Automatic Differentiation capability for opperations on tensor i.e AutoGrad.\n",
    "\n",
    "This is an excerpt from the official docs\n",
    "\n",
    "torch.Tensor is the central class of the package. If you set its attribute .requires_grad as True, it starts to track all operations on it. When you finish your computation you can call .backward() and have all the gradients computed automatically. The gradient for this tensor will be accumulated into .grad attribute.\n",
    "\n",
    "To stop a tensor from tracking history, you can call .detach() to detach it from the computation history, and to prevent future computation from being tracked.\n",
    "\n",
    "To prevent tracking history (and using memory), you can also wrap the code block in with torch.no_grad():. This can be particularly helpful when evaluating a model because the model may have trainable parameters with requires_grad=True, but for which we don’t need the gradients.\n",
    "\n",
    "There’s one more class which is very important for autograd implementation - a Function.\n",
    "\n",
    "Tensor and Function are interconnected and build up an acyclic graph, that encodes a complete history of computation. Each tensor has a .grad_fn attribute that references a Function that has created the Tensor (except for Tensors created by the user - their grad_fn is None).\n",
    "\n",
    "If you want to compute the derivatives, you can call .backward() on a Tensor. If Tensor is a scalar (i.e. it holds a one element data), you don’t need to specify any arguments to backward(), however if it has more elements, you need to specify a gradient argument that is a tensor of matching shape."
   ]
  },
  {
   "cell_type": "code",
   "execution_count": 10,
   "metadata": {},
   "outputs": [
    {
     "name": "stdout",
     "output_type": "stream",
     "text": [
      "tensor([[3., 3.],\n",
      "        [3., 3.]], grad_fn=<AddBackward>)\n",
      "<AddBackward object at 0x000001E36BDF6208>\n",
      "None\n"
     ]
    }
   ],
   "source": [
    "x = torch.ones(2,2 , requires_grad = True) ## Ya because gradient tracking is not obvious \n",
    "y = x + 2\n",
    "print(y)\n",
    "print(y.grad_fn)\n",
    "print(y.grad)"
   ]
  },
  {
   "cell_type": "markdown",
   "metadata": {},
   "source": [
    "So we can see there is a function object attached to the tensor y and the gradient respect to y for y at this point is None."
   ]
  },
  {
   "cell_type": "code",
   "execution_count": 11,
   "metadata": {},
   "outputs": [
    {
     "name": "stdout",
     "output_type": "stream",
     "text": [
      "tensor(3., grad_fn=<MeanBackward1>)\n"
     ]
    }
   ],
   "source": [
    "z = y.mean()\n",
    "print(z)"
   ]
  },
  {
   "cell_type": "code",
   "execution_count": 12,
   "metadata": {},
   "outputs": [
    {
     "name": "stdout",
     "output_type": "stream",
     "text": [
      "State of x :  tensor([[1., 1.],\n",
      "        [1., 1.]], requires_grad=True) None None\n",
      "State of y :  tensor([[3., 3.],\n",
      "        [3., 3.]], grad_fn=<AddBackward>) None <AddBackward object at 0x000001E36BDF8A58>\n",
      "State of z :  tensor(3., grad_fn=<MeanBackward1>) None <MeanBackward1 object at 0x000001E36BDF8A20>\n",
      "State of x :  tensor([[1., 1.],\n",
      "        [1., 1.]], requires_grad=True) tensor([[0.2500, 0.2500],\n",
      "        [0.2500, 0.2500]]) None\n",
      "State of y :  tensor([[3., 3.],\n",
      "        [3., 3.]], grad_fn=<AddBackward>) None <AddBackward object at 0x000001E36BDF8A58>\n",
      "State of z :  tensor(3., grad_fn=<MeanBackward1>) None <MeanBackward1 object at 0x000001E36BDF8A90>\n"
     ]
    }
   ],
   "source": [
    "print(\"State of x : \",x , x.grad , x.grad_fn)\n",
    "print(\"State of y : \",y , y.grad , y.grad_fn)\n",
    "print(\"State of z : \",z , z.grad , z.grad_fn)\n",
    "\n",
    "z.backward()\n",
    "\n",
    "print(\"State of x : \",x , x.grad , x.grad_fn)\n",
    "print(\"State of y : \",y , y.grad , y.grad_fn)\n",
    "print(\"State of z : \",z , z.grad , z.grad_fn)"
   ]
  },
  {
   "cell_type": "markdown",
   "metadata": {},
   "source": [
    "If we repeat the above block a few times the operation gets repeated and the state of the variable gradient keeps changing. It's upto us what we do with them"
   ]
  },
  {
   "cell_type": "markdown",
   "metadata": {},
   "source": [
    "## Onto NEURAL NETS then"
   ]
  },
  {
   "cell_type": "code",
   "execution_count": 29,
   "metadata": {},
   "outputs": [
    {
     "name": "stdout",
     "output_type": "stream",
     "text": [
      "Net(\n",
      "  (conv1): Conv2d(1, 6, kernel_size=(5, 5), stride=(1, 1))\n",
      "  (conv2): Conv2d(6, 16, kernel_size=(5, 5), stride=(1, 1))\n",
      "  (fc1): Linear(in_features=400, out_features=120, bias=True)\n",
      "  (fc2): Linear(in_features=120, out_features=84, bias=True)\n",
      "  (fc3): Linear(in_features=84, out_features=10, bias=True)\n",
      ")\n"
     ]
    }
   ],
   "source": [
    "import torch.nn as nn\n",
    "import torch.nn.functional as F\n",
    "\n",
    "class Net(nn.Module):\n",
    "    \n",
    "    def __init__(self):\n",
    "        super(Net , self ).__init__()\n",
    "\n",
    "        ## Kernesl for convolution\n",
    "        self.conv1 = nn.Conv2d(1,6 , 5) ## where 1 is input number of channels 6 is output and 5 is filter size\n",
    "        self.conv2 = nn.Conv2d(6 , 16 , 5)\n",
    "        self.fc1 = nn.Linear(16 * 5 * 5 , 120) ## How is the in feature determined. Is it precalcylated ?\n",
    "        self.fc2 = nn.Linear(120 , 84)\n",
    "        self.fc3 = nn.Linear(84 , 10)\n",
    "    \n",
    "    def calc_feature_count(self , x):\n",
    "        size = x.size()[1:] ##dont take the batch size geez\n",
    "        num = 1\n",
    "        for s in size:\n",
    "            num *= s\n",
    "        return num\n",
    "    \n",
    "    def forward(self , x):\n",
    "        x = self.conv1(x)\n",
    "        x = F.relu(x)\n",
    "        x = F.max_pool2d(x, (2,2))\n",
    "        x = self.conv2(x)\n",
    "        x = F.relu(x)\n",
    "        x = F.max_pool2d(x, (2,2))\n",
    "        x = x.view(-1 , self.calc_feature_count(x))\n",
    "        x = self.fc1(x)\n",
    "        x = F.relu(x)\n",
    "        x = self.fc2(x)\n",
    "        x = F.relu(x)\n",
    "        x = self.fc3(x)\n",
    "        return x\n",
    "    \n",
    "\n",
    "net = Net()\n",
    "print(net)\n",
    "        "
   ]
  },
  {
   "cell_type": "markdown",
   "metadata": {},
   "source": [
    "We have to define the **forward** functino and the **backward** function for tha autograd to work."
   ]
  },
  {
   "cell_type": "code",
   "execution_count": 30,
   "metadata": {},
   "outputs": [
    {
     "name": "stdout",
     "output_type": "stream",
     "text": [
      "10\n",
      "torch.Size([6, 1, 5, 5])\n"
     ]
    }
   ],
   "source": [
    "params = list(net.parameters())\n",
    "print(len(params))\n",
    "print(params[0].size())  # conv1's .weight"
   ]
  },
  {
   "cell_type": "markdown",
   "metadata": {},
   "source": [
    "Well the parameter weights are actively available that is one good thing. "
   ]
  },
  {
   "cell_type": "code",
   "execution_count": 31,
   "metadata": {},
   "outputs": [
    {
     "data": {
      "text/plain": [
       "tensor([[-0.0108, -0.1214, -0.0612, -0.0247, -0.2039,  0.0635,  0.0200, -0.0822,\n",
       "          0.0041,  0.0708]], grad_fn=<ThAddmmBackward>)"
      ]
     },
     "execution_count": 31,
     "metadata": {},
     "output_type": "execute_result"
    }
   ],
   "source": [
    "inp = torch.randn(1,1,32,32)\n",
    "out = net(inp)\n",
    "out"
   ]
  },
  {
   "cell_type": "code",
   "execution_count": null,
   "metadata": {},
   "outputs": [],
   "source": [
    "net.zero_grad()\n",
    "out.backward(torch.randn(1,10))"
   ]
  },
  {
   "cell_type": "markdown",
   "metadata": {},
   "source": [
    "Also note this that , Pytorch since have dynamic graph it always empties the graph buffers after one backward call unless explicitly specified. So one must specify retain_graph = True for sustaining a graph\n",
    "\n",
    "We now add **LOSS** function to the final output of the network"
   ]
  },
  {
   "cell_type": "code",
   "execution_count": 36,
   "metadata": {},
   "outputs": [
    {
     "name": "stdout",
     "output_type": "stream",
     "text": [
      "tensor(0.7244, grad_fn=<MseLossBackward>)\n"
     ]
    }
   ],
   "source": [
    "inp = torch.randn(1 , 1 , 32 , 32)\n",
    "out = net(inp)\n",
    "target = torch.randn(1,10)\n",
    "criterion = nn.MSELoss()\n",
    "loss = criterion(out , target)\n",
    "print(loss)"
   ]
  },
  {
   "cell_type": "code",
   "execution_count": 44,
   "metadata": {},
   "outputs": [
    {
     "data": {
      "text/plain": [
       "((<AccumulateGrad at 0x1e309a45f60>, 0),)"
      ]
     },
     "execution_count": 44,
     "metadata": {},
     "output_type": "execute_result"
    }
   ],
   "source": [
    "loss.grad_fn.next_functions[0][0].next_functions[0][0].next_functions\n",
    "## this is how you traverse through the entirety of graph in case you were wondering"
   ]
  },
  {
   "cell_type": "code",
   "execution_count": 45,
   "metadata": {},
   "outputs": [],
   "source": [
    "net.zero_grad()"
   ]
  },
  {
   "cell_type": "code",
   "execution_count": 46,
   "metadata": {},
   "outputs": [
    {
     "name": "stdout",
     "output_type": "stream",
     "text": [
      "conv1.bias.grad before backward\n",
      "tensor([0., 0., 0., 0., 0., 0.])\n",
      "conv1.bias.grad after backward\n",
      "tensor([-0.0050,  0.0027, -0.0013, -0.0004, -0.0089,  0.0115])\n"
     ]
    }
   ],
   "source": [
    "print('conv1.bias.grad before backward')\n",
    "print(net.conv1.bias.grad)\n",
    "\n",
    "loss.backward()\n",
    "\n",
    "print('conv1.bias.grad after backward')\n",
    "print(net.conv1.bias.grad)\n"
   ]
  },
  {
   "cell_type": "markdown",
   "metadata": {},
   "source": [
    "Adding **Torch Optimizers** though we can loop throgh all the parameter data and optimize i.e change the values of the weights on our own we don't need to."
   ]
  },
  {
   "cell_type": "code",
   "execution_count": 49,
   "metadata": {},
   "outputs": [],
   "source": [
    "import torch.optim as optim\n",
    "\n",
    "# create your optimizer\n",
    "optimizer = optim.SGD(net.parameters(), lr=0.01)\n",
    "\n",
    "# in your training loop:\n",
    "optimizer.zero_grad()   # zero the gradient buffers\n",
    "output = net(inp)\n",
    "loss = criterion(output, target)\n",
    "loss.backward() # Does a backward step  needs retain_graph = True for\n",
    "## Sustaining the training for the entire time\n",
    "optimizer.step()    # Does the update"
   ]
  },
  {
   "cell_type": "markdown",
   "metadata": {},
   "source": [
    "We will load the CIFAR Dataset now and make some prediction  YAY !!!!!"
   ]
  },
  {
   "cell_type": "code",
   "execution_count": 54,
   "metadata": {},
   "outputs": [],
   "source": [
    "import torchvision\n",
    "import torchvision.transforms as transforms"
   ]
  },
  {
   "cell_type": "code",
   "execution_count": 56,
   "metadata": {},
   "outputs": [
    {
     "name": "stdout",
     "output_type": "stream",
     "text": [
      "Downloading https://www.cs.toronto.edu/~kriz/cifar-10-python.tar.gz to ./data\\cifar-10-python.tar.gz\n",
      "Files already downloaded and verified\n"
     ]
    }
   ],
   "source": [
    "transform = transforms.Compose(\n",
    "    [transforms.ToTensor(),\n",
    "     transforms.Normalize((0.5, 0.5, 0.5), (0.5, 0.5, 0.5))])\n",
    "\n",
    "trainset = torchvision.datasets.CIFAR10(root='./data', train=True,\n",
    "                                        download=True, transform=transform)\n",
    "trainloader = torch.utils.data.DataLoader(trainset, batch_size=4,\n",
    "                                          shuffle=True, num_workers=2)\n",
    "\n",
    "testset = torchvision.datasets.CIFAR10(root='./data', train=False,\n",
    "                                       download=True, transform=transform)\n",
    "testloader = torch.utils.data.DataLoader(testset, batch_size=4,\n",
    "                                         shuffle=False, num_workers=2)\n",
    "\n",
    "classes = ('plane', 'car', 'bird', 'cat',\n",
    "           'deer', 'dog', 'frog', 'horse', 'ship', 'truck')"
   ]
  },
  {
   "cell_type": "code",
   "execution_count": 78,
   "metadata": {},
   "outputs": [],
   "source": [
    "import matplotlib.pyplot as plt\n",
    "import numpy as np\n",
    "\n",
    "# functions to show an image\n",
    "\n",
    "\n",
    "def imshow(img):\n",
    "    img = img / 2 + 0.5     # unnormalize\n",
    "    npimg = img.numpy()\n",
    "    plt.imshow(np.transpose(npimg, (1, 2, 0)))\n",
    "\n",
    "\n",
    "# get some random training images\n",
    "dataiter = iter(trainloader)\n",
    "images, labels = dataiter.next()"
   ]
  },
  {
   "cell_type": "code",
   "execution_count": 79,
   "metadata": {},
   "outputs": [
    {
     "name": "stdout",
     "output_type": "stream",
     "text": [
      "  dog truck  ship  deer\n"
     ]
    },
    {
     "data": {
      "image/png": "[encoded data removed]",
      "text/plain": [
       "<Figure size 432x288 with 1 Axes>"
      ]
     },
     "metadata": {},
     "output_type": "display_data"
    }
   ],
   "source": [
    "# show images\n",
    "imshow(torchvision.utils.make_grid(images))\n",
    "# print labels\n",
    "print(' '.join('%5s' % classes[labels[j]] for j in range(4)))"
   ]
  },
  {
   "cell_type": "markdown",
   "metadata": {},
   "source": [
    "![This is why we put grad to zero before passing a mini batch](why grad zero.PNG)   \n",
    "\n",
    "**From the fast.ai forum ** [link](https://discuss.pytorch.org/t/why-do-we-need-to-set-the-gradients-manually-to-zero-in-pytorch/4903/9)"
   ]
  },
  {
   "cell_type": "code",
   "execution_count": 101,
   "metadata": {},
   "outputs": [
    {
     "name": "stdout",
     "output_type": "stream",
     "text": [
      "Net(\n",
      "  (conv1): Conv2d(3, 6, kernel_size=(5, 5), stride=(1, 1))\n",
      "  (conv2): Conv2d(6, 16, kernel_size=(5, 5), stride=(1, 1))\n",
      "  (fc1): Linear(in_features=400, out_features=120, bias=True)\n",
      "  (fc2): Linear(in_features=120, out_features=84, bias=True)\n",
      "  (fc3): Linear(in_features=84, out_features=10, bias=True)\n",
      ")\n",
      "[1 ,  2000] loss 2.237\n",
      "[1 ,  4000] loss 1.890\n",
      "[1 ,  6000] loss 1.702\n",
      "[1 ,  8000] loss 1.555\n",
      "[1 , 10000] loss 1.502\n",
      "[1 , 12000] loss 1.473\n",
      "[2 ,  2000] loss 1.390\n",
      "[2 ,  4000] loss 1.348\n",
      "[2 ,  6000] loss 1.350\n",
      "[2 ,  8000] loss 1.346\n",
      "[2 , 10000] loss 1.332\n",
      "[2 , 12000] loss 1.286\n",
      "Time taken is  74.38872599601746  seconds\n"
     ]
    }
   ],
   "source": [
    "class Net(nn.Module):\n",
    "    \n",
    "    def __init__(self):\n",
    "        super(Net , self ).__init__()\n",
    "\n",
    "        ## Kernesl for convolution\n",
    "        self.conv1 = nn.Conv2d(3 , 6 , 5) ## where 1 is input number of channels 6 is output and 5 is filter size\n",
    "        self.conv2 = nn.Conv2d(6 , 16 , 5)\n",
    "        self.fc1 = nn.Linear(16 * 5 * 5 , 120) ## How is the in feature determined. Is it precalcylated ?\n",
    "        self.fc2 = nn.Linear(120 , 84)\n",
    "        self.fc3 = nn.Linear(84 , 10)\n",
    "    \n",
    "    def calc_feature_count(self , x):\n",
    "        size = x.size()[1:] ##dont take the batch size geez\n",
    "        num = 1\n",
    "        for s in size:\n",
    "            num *= s\n",
    "        return num\n",
    "    \n",
    "    def forward(self , x):\n",
    "        x = self.conv1(x)\n",
    "        x = F.relu(x)\n",
    "        x = F.max_pool2d(x, (2,2))\n",
    "        x = self.conv2(x)\n",
    "        x = F.relu(x)\n",
    "        x = F.max_pool2d(x, (2,2))\n",
    "        x = x.view(-1 , self.calc_feature_count(x))\n",
    "        x = self.fc1(x)\n",
    "        x = F.relu(x)\n",
    "        x = self.fc2(x)\n",
    "        x = F.relu(x)\n",
    "        x = self.fc3(x)\n",
    "        return x\n",
    "    \n",
    "\n",
    "net = Net()\n",
    "print(net)\n",
    "\n",
    "\n",
    "import time\n",
    "\n",
    "\n",
    "criterion = nn.CrossEntropyLoss()\n",
    "optimizer = optim.SGD(net.parameters(), lr=0.001, momentum=0.9)\n",
    "\n",
    "beg = time.time()\n",
    "for epoch in range(2):\n",
    "    running_loss = 0.0\n",
    "    for i , data in enumerate(trainloader , 0):\n",
    "        inputs , labels = data\n",
    "        optimizer.zero_grad()\n",
    "        outputs = net(inputs)\n",
    "        loss = criterion(outputs , labels)\n",
    "        loss.backward()\n",
    "        optimizer.step()\n",
    "        running_loss += loss.item()\n",
    "        if i % 2000 == 1999: # print every 2000 mini-batches\n",
    "            print(\"[%d , %5d] loss %.3f\" % (epoch +1 , i+1 , running_loss/2000))\n",
    "            running_loss = 0.0\n",
    "beg = time.time() - beg\n",
    "print(\"Time taken is \" , beg , \" seconds\")"
   ]
  },
  {
   "cell_type": "markdown",
   "metadata": {},
   "source": [
    "This training was done on CPU mark that it took a lot of time. **LOOOOTTTT OFFF TIME**"
   ]
  },
  {
   "cell_type": "code",
   "execution_count": 102,
   "metadata": {},
   "outputs": [
    {
     "data": {
      "text/plain": [
       "12500"
      ]
     },
     "execution_count": 102,
     "metadata": {},
     "output_type": "execute_result"
    }
   ],
   "source": [
    "len(list(enumerate(trainloader)))"
   ]
  },
  {
   "cell_type": "code",
   "execution_count": 103,
   "metadata": {},
   "outputs": [
    {
     "name": "stdout",
     "output_type": "stream",
     "text": [
      "GroundTruth:    cat  ship  ship plane\n"
     ]
    },
    {
     "data": {
      "image/png": "[encoded data removed]",
      "text/plain": [
       "<Figure size 432x288 with 1 Axes>"
      ]
     },
     "metadata": {},
     "output_type": "display_data"
    }
   ],
   "source": [
    "dataiter = iter(testloader)\n",
    "images, labels = dataiter.next()\n",
    "\n",
    "# print images\n",
    "imshow(torchvision.utils.make_grid(images))\n",
    "print('GroundTruth: ', ' '.join('%5s' % classes[labels[j]] for j in range(4)))"
   ]
  },
  {
   "cell_type": "code",
   "execution_count": 104,
   "metadata": {},
   "outputs": [
    {
     "name": "stdout",
     "output_type": "stream",
     "text": [
      "Predicted:   ship  ship  ship  ship\n"
     ]
    }
   ],
   "source": [
    "outputs = net(images)\n",
    "_, predicted = torch.max(outputs, 1)\n",
    "print('Predicted: ', ' '.join('%5s' % classes[predicted[j]]\n",
    "                              for j in range(4)))"
   ]
  },
  {
   "cell_type": "code",
   "execution_count": 105,
   "metadata": {},
   "outputs": [
    {
     "data": {
      "text/plain": [
       "device(type='cuda')"
      ]
     },
     "execution_count": 105,
     "metadata": {},
     "output_type": "execute_result"
    }
   ],
   "source": [
    "device ## we still have this"
   ]
  },
  {
   "cell_type": "code",
   "execution_count": 106,
   "metadata": {},
   "outputs": [],
   "source": [
    "net = net.to(device)"
   ]
  },
  {
   "cell_type": "code",
   "execution_count": 108,
   "metadata": {},
   "outputs": [
    {
     "name": "stdout",
     "output_type": "stream",
     "text": [
      "[1 ,  2000] loss 1.067\n",
      "[1 ,  4000] loss 1.068\n",
      "[1 ,  6000] loss 1.069\n",
      "[1 ,  8000] loss 1.048\n",
      "[1 , 10000] loss 1.066\n",
      "[1 , 12000] loss 1.054\n",
      "[2 ,  2000] loss 0.976\n",
      "[2 ,  4000] loss 0.978\n",
      "[2 ,  6000] loss 1.015\n",
      "[2 ,  8000] loss 1.021\n",
      "[2 , 10000] loss 1.043\n",
      "[2 , 12000] loss 1.020\n",
      "GPU Time take is: 171.316162109375 seconds\n"
     ]
    }
   ],
   "source": [
    "criterion = nn.CrossEntropyLoss()\n",
    "optimizer = optim.SGD(net.parameters(), lr=0.001, momentum=0.9)\n",
    "\n",
    "beg = time.time()\n",
    "for epoch in range(2):\n",
    "    running_loss = 0.0\n",
    "    for i , data in enumerate(trainloader , 0):\n",
    "        inputs , labels = data\n",
    "        inputs , labels = inputs.to(device) , labels.to(device)\n",
    "        optimizer.zero_grad()\n",
    "        outputs = net(inputs)\n",
    "        loss = criterion(outputs , labels)\n",
    "        loss.backward()\n",
    "        optimizer.step()\n",
    "        running_loss += loss.item()\n",
    "        if i % 2000 == 1999: # print every 2000 mini-batches\n",
    "            print(\"[%d , %5d] loss %.3f\" % (epoch +1 , i+1 , running_loss/2000))\n",
    "            running_loss = 0.0\n",
    "beg = time.time() - beg\n",
    "print(\"GPU Time take is:\" , beg , \"seconds\")"
   ]
  },
  {
   "cell_type": "markdown",
   "metadata": {},
   "source": [
    "In case you are wondering , it is because at each point the data of batch size 4 needs to be move to the GPU , a pain"
   ]
  },
  {
   "cell_type": "code",
   "execution_count": null,
   "metadata": {},
   "outputs": [],
   "source": []
  }
 ],
 "metadata": {
  "kernelspec": {
   "display_name": "Python 3",
   "language": "python",
   "name": "python3"
  },
  "language_info": {
   "codemirror_mode": {
    "name": "ipython",
    "version": 3
   },
   "file_extension": ".py",
   "mimetype": "text/x-python",
   "name": "python",
   "nbconvert_exporter": "python",
   "pygments_lexer": "ipython3",
   "version": "3.6.5"
  }
 },
 "nbformat": 4,
 "nbformat_minor": 2
}
