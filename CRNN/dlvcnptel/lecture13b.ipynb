{
 "cells": [
  {
   "cell_type": "markdown",
   "metadata": {},
   "source": [
    "Load Packages\n",
    "==============="
   ]
  },
  {
   "cell_type": "code",
   "execution_count": 29,
   "metadata": {
    "collapsed": false
   },
   "outputs": [],
   "source": [
    "%matplotlib inline\n",
    "import os\n",
    "import struct\n",
    "import torch\n",
    "from PIL import Image\n",
    "import matplotlib.pyplot as plt\n",
    "import numpy as np\n",
    "import torchvision\n",
    "from torchvision import datasets"
   ]
  },
  {
   "cell_type": "markdown",
   "metadata": {},
   "source": [
    "Load Data:\n",
    "==============="
   ]
  },
  {
   "cell_type": "code",
   "execution_count": 30,
   "metadata": {
    "collapsed": true
   },
   "outputs": [],
   "source": [
    "import codecs"
   ]
  },
  {
   "cell_type": "code",
   "execution_count": null,
   "metadata": {
    "collapsed": true
   },
   "outputs": [],
   "source": [
    "download = datasets.FashionMNIST('./FMNIST/', train=True, download=True) "
   ]
  },
  {
   "cell_type": "code",
   "execution_count": 31,
   "metadata": {
    "collapsed": true
   },
   "outputs": [],
   "source": [
    "Datapath = 'FMNIST/raw/'"
   ]
  },
  {
   "cell_type": "code",
   "execution_count": 32,
   "metadata": {
    "collapsed": true
   },
   "outputs": [],
   "source": [
    "def get_int(b):\n",
    "    return int(codecs.encode(b, 'hex'), 16)"
   ]
  },
  {
   "cell_type": "code",
   "execution_count": 33,
   "metadata": {
    "collapsed": true
   },
   "outputs": [],
   "source": [
    "def parse_byte(b):\n",
    "    if isinstance(b, str):\n",
    "        return ord(b)\n",
    "    return b"
   ]
  },
  {
   "cell_type": "code",
   "execution_count": 34,
   "metadata": {
    "collapsed": true
   },
   "outputs": [],
   "source": [
    "def read_image_file(path):\n",
    "    with open(path, 'rb') as f:\n",
    "        data = f.read()\n",
    "        assert get_int(data[:4]) == 2051\n",
    "        length = get_int(data[4:8])\n",
    "        num_rows = get_int(data[8:12])\n",
    "        num_cols = get_int(data[12:16])\n",
    "        images = []\n",
    "        idx = 16\n",
    "        for l in range(length):\n",
    "            img = []\n",
    "            images.append(img)\n",
    "            for r in range(num_rows):\n",
    "                row = []\n",
    "                img.append(row)\n",
    "                for c in range(num_cols):\n",
    "                    row.append(parse_byte(data[idx]))\n",
    "                    idx += 1\n",
    "        assert len(images) == length\n",
    "        return torch.ByteTensor(images).view(-1,784)"
   ]
  },
  {
   "cell_type": "code",
   "execution_count": 35,
   "metadata": {
    "collapsed": true
   },
   "outputs": [],
   "source": [
    "def read_label_file(path):\n",
    "    with open(path, 'rb') as f:\n",
    "        data = f.read()\n",
    "        assert get_int(data[:4]) == 2049\n",
    "        length = get_int(data[4:8])\n",
    "        labels = [parse_byte(b) for b in data[8:]]\n",
    "        assert len(labels) == length\n",
    "        return torch.LongTensor(labels)"
   ]
  },
  {
   "cell_type": "code",
   "execution_count": 36,
   "metadata": {
    "collapsed": false
   },
   "outputs": [],
   "source": [
    "TrainImages = read_image_file(os.path.join(Datapath, 'train-images-idx3-ubyte'))\n",
    "TrainLabels = read_label_file(os.path.join(Datapath, 'train-labels-idx1-ubyte'))\n",
    "TestImages = read_image_file(os.path.join(Datapath, 't10k-images-idx3-ubyte'))\n",
    "TestLabels = read_label_file(os.path.join(Datapath, 't10k-labels-idx1-ubyte'))"
   ]
  },
  {
   "cell_type": "code",
   "execution_count": 37,
   "metadata": {
    "collapsed": false,
    "scrolled": true
   },
   "outputs": [
    {
     "name": "stdout",
     "output_type": "stream",
     "text": [
      "torch.Size([60000, 784])\n",
      "torch.Size([60000])\n",
      "torch.Size([10000, 784])\n",
      "torch.Size([10000])\n"
     ]
    }
   ],
   "source": [
    "print(TrainImages.size())\n",
    "print(TrainLabels.size())\n",
    "print(TestImages.size())\n",
    "print(TestLabels.size())"
   ]
  },
  {
   "cell_type": "code",
   "execution_count": 38,
   "metadata": {
    "collapsed": true
   },
   "outputs": [],
   "source": [
    "use_gpu = torch.cuda.is_available()"
   ]
  },
  {
   "cell_type": "markdown",
   "metadata": {},
   "source": [
    "Define the Autoencoder:\n",
    "==============="
   ]
  },
  {
   "cell_type": "code",
   "execution_count": 39,
   "metadata": {
    "collapsed": false
   },
   "outputs": [
    {
     "name": "stdout",
     "output_type": "stream",
     "text": [
      "autoencoder (\n",
      "  (encoder): Sequential (\n",
      "    (0): Linear (784 -> 100)\n",
      "    (1): ReLU ()\n",
      "  )\n",
      "  (decoder): Sequential (\n",
      "    (0): Linear (100 -> 784)\n",
      "    (1): ReLU ()\n",
      "  )\n",
      ")\n"
     ]
    }
   ],
   "source": [
    "from torch.autograd import Variable\n",
    "import torch.nn as nn\n",
    "import torch.nn.functional as F\n",
    "import copy\n",
    "\n",
    "\n",
    "class autoencoder(nn.Module):\n",
    "    def __init__(self):\n",
    "        super(autoencoder, self).__init__()\n",
    "        self.encoder = nn.Sequential(\n",
    "            nn.Linear(28*28, 100),\n",
    "            nn.ReLU())\n",
    "        self.decoder = nn.Sequential(\n",
    "            nn.Linear(100, 28*28),\n",
    "            nn.ReLU())\n",
    "\n",
    "    def forward(self, x):\n",
    "        x = self.encoder(x)\n",
    "        x = self.decoder(x)\n",
    "        return x\n",
    "\n",
    "\n",
    "net = autoencoder()\n",
    "print(net)\n",
    "\n",
    "if use_gpu:\n",
    "    net = net.double().cuda()\n",
    "else:\n",
    "    net = net.double()\n",
    "        \n",
    "init_weights = copy.deepcopy(net.encoder[0].weight.data)"
   ]
  },
  {
   "cell_type": "markdown",
   "metadata": {},
   "source": [
    "Define Optimization Technique:\n",
    "==============="
   ]
  },
  {
   "cell_type": "code",
   "execution_count": 40,
   "metadata": {
    "collapsed": false
   },
   "outputs": [],
   "source": [
    "import torch.optim as optim\n",
    "\n",
    "criterion = nn.MSELoss()\n",
    "optimizer = optim.SGD(net.parameters(), lr=0.5, momentum=0.9)"
   ]
  },
  {
   "cell_type": "markdown",
   "metadata": {},
   "source": [
    "Train Autoencoder:\n",
    "==========="
   ]
  },
  {
   "cell_type": "code",
   "execution_count": 41,
   "metadata": {
    "collapsed": false
   },
   "outputs": [
    {
     "name": "stdout",
     "output_type": "stream",
     "text": [
      "At Iteration : 1 / 30  ;  Mean-Squared Error : 0.109049\n",
      "At Iteration : 2 / 30  ;  Mean-Squared Error : 0.070072\n",
      "At Iteration : 3 / 30  ;  Mean-Squared Error : 0.056647\n",
      "At Iteration : 4 / 30  ;  Mean-Squared Error : 0.048971\n",
      "At Iteration : 5 / 30  ;  Mean-Squared Error : 0.045475\n",
      "At Iteration : 6 / 30  ;  Mean-Squared Error : 0.042917\n",
      "At Iteration : 7 / 30  ;  Mean-Squared Error : 0.041283\n",
      "At Iteration : 8 / 30  ;  Mean-Squared Error : 0.040272\n",
      "At Iteration : 9 / 30  ;  Mean-Squared Error : 0.039490\n",
      "At Iteration : 10 / 30  ;  Mean-Squared Error : 0.038858\n",
      "At Iteration : 11 / 30  ;  Mean-Squared Error : 0.038280\n",
      "At Iteration : 12 / 30  ;  Mean-Squared Error : 0.037732\n",
      "At Iteration : 13 / 30  ;  Mean-Squared Error : 0.037038\n",
      "At Iteration : 14 / 30  ;  Mean-Squared Error : 0.036459\n",
      "At Iteration : 15 / 30  ;  Mean-Squared Error : 0.035793\n",
      "At Iteration : 16 / 30  ;  Mean-Squared Error : 0.035242\n",
      "At Iteration : 17 / 30  ;  Mean-Squared Error : 0.034892\n",
      "At Iteration : 18 / 30  ;  Mean-Squared Error : 0.034578\n",
      "At Iteration : 19 / 30  ;  Mean-Squared Error : 0.034287\n",
      "At Iteration : 20 / 30  ;  Mean-Squared Error : 0.034017\n",
      "At Iteration : 21 / 30  ;  Mean-Squared Error : 0.033766\n",
      "At Iteration : 22 / 30  ;  Mean-Squared Error : 0.033532\n",
      "At Iteration : 23 / 30  ;  Mean-Squared Error : 0.033314\n",
      "At Iteration : 24 / 30  ;  Mean-Squared Error : 0.033110\n",
      "At Iteration : 25 / 30  ;  Mean-Squared Error : 0.032920\n",
      "At Iteration : 26 / 30  ;  Mean-Squared Error : 0.032740\n",
      "At Iteration : 27 / 30  ;  Mean-Squared Error : 0.032571\n",
      "At Iteration : 28 / 30  ;  Mean-Squared Error : 0.032327\n",
      "At Iteration : 29 / 30  ;  Mean-Squared Error : 0.032091\n",
      "At Iteration : 30 / 30  ;  Mean-Squared Error : 0.031940\n",
      "Finished Training\n"
     ]
    }
   ],
   "source": [
    "iterations = 30\n",
    "BatchSize = 1000\n",
    "for epoch in range(iterations):\n",
    "    runningLoss = 0\n",
    "    for i in range(TrainImages.size()[0]/BatchSize):\n",
    "        inputs = torch.index_select(TrainImages,0,torch.linspace(i*BatchSize,(i+1)*BatchSize - 1,steps=BatchSize)\n",
    "                                  .long()).double()\n",
    "        inputs = inputs/255\n",
    "        if use_gpu:\n",
    "            inputs = Variable(inputs).cuda()\n",
    "        else:\n",
    "            inputs = Variable(inputs)\n",
    "        optimizer.zero_grad()\n",
    "        outputs = net(inputs)\n",
    "        loss = criterion(outputs, inputs)\n",
    "        loss.backward()\n",
    "        optimizer.step()\n",
    "        runningLoss += loss.data[0]\n",
    "    print('At Iteration : %d / %d  ;  Mean-Squared Error : %f'%(epoch + 1,iterations,runningLoss/\n",
    "                                                                (TrainImages.size()[0]/BatchSize)))\n",
    "print('Finished Training')"
   ]
  },
  {
   "cell_type": "markdown",
   "metadata": {},
   "source": [
    "Testing Autoencoder Performance:\n",
    "================="
   ]
  },
  {
   "cell_type": "code",
   "execution_count": 42,
   "metadata": {
    "collapsed": false
   },
   "outputs": [
    {
     "data": {
      "image/png": "[encoded data removed]",
      "text/plain": [
       "<matplotlib.figure.Figure at 0x7f21040d1850>"
      ]
     },
     "metadata": {},
     "output_type": "display_data"
    }
   ],
   "source": [
    "TestImg = torch.index_select(TestImages,0,torch.LongTensor([1]))\n",
    "if use_gpu:\n",
    "    outputImg = net(Variable((TestImg.double().cuda())/255)).data\n",
    "    outputImg = (outputImg*255).byte()\n",
    "    outputImg = outputImg.view(-1,28,28).cpu()\n",
    "else:\n",
    "    outputImg = net(Variable((TestImg.double())/255)).data\n",
    "    outputImg = (outputImg*255).byte()\n",
    "    outputImg = outputImg.view(-1,28,28)\n",
    "\n",
    "TestImg = TestImg.view(-1,28,28)\n",
    "\n",
    "fig = plt.figure()\n",
    "plot=fig.add_subplot(1,2,1)\n",
    "img = np.array(TestImg.numpy())[0]\n",
    "plot.set_title('Original Image')\n",
    "imgplot = plt.imshow(img,cmap='gray')\n",
    "\n",
    "plot=fig.add_subplot(1,2,2)\n",
    "img = np.array(outputImg.numpy())[0]\n",
    "plot.set_title('Reconstructed Image')\n",
    "imgplot = plt.imshow(img,cmap='gray')\n",
    "plt.show()\n",
    "\n"
   ]
  },
  {
   "cell_type": "markdown",
   "metadata": {},
   "source": [
    "Adding more Layers:\n",
    "================="
   ]
  },
  {
   "cell_type": "code",
   "execution_count": 43,
   "metadata": {
    "collapsed": false
   },
   "outputs": [
    {
     "name": "stdout",
     "output_type": "stream",
     "text": [
      "autoencoder (\n",
      "  (encoder): Sequential (\n",
      "    (0): Linear (784 -> 100)\n",
      "    (1): ReLU ()\n",
      "    (layer): Sequential (\n",
      "      (0): Linear (100 -> 100)\n",
      "      (1): ReLU ()\n",
      "      (2): Linear (100 -> 100)\n",
      "      (3): ReLU ()\n",
      "    )\n",
      "  )\n",
      "  (decoder): Sequential (\n",
      "    (0): Linear (100 -> 784)\n",
      "    (1): ReLU ()\n",
      "  )\n",
      ")\n"
     ]
    }
   ],
   "source": [
    "net.encoder.add_module('layer', nn.Sequential(nn.Linear(100, 100),nn.ReLU(),nn.Linear(100, 100),nn.ReLU()))\n",
    "print(net)\n",
    "if use_gpu:\n",
    "    net = net.double().cuda()\n",
    "else:\n",
    "    net = net.double()"
   ]
  },
  {
   "cell_type": "code",
   "execution_count": 44,
   "metadata": {
    "collapsed": false
   },
   "outputs": [
    {
     "name": "stdout",
     "output_type": "stream",
     "text": [
      "At Iteration : 1 / 30  ;  Mean-Squared Error : 0.111576\n",
      "At Iteration : 2 / 30  ;  Mean-Squared Error : 0.072922\n",
      "At Iteration : 3 / 30  ;  Mean-Squared Error : 0.062268\n",
      "At Iteration : 4 / 30  ;  Mean-Squared Error : 0.056672\n",
      "At Iteration : 5 / 30  ;  Mean-Squared Error : 0.053632\n",
      "At Iteration : 6 / 30  ;  Mean-Squared Error : 0.051158\n",
      "At Iteration : 7 / 30  ;  Mean-Squared Error : 0.048794\n",
      "At Iteration : 8 / 30  ;  Mean-Squared Error : 0.047161\n",
      "At Iteration : 9 / 30  ;  Mean-Squared Error : 0.046059\n",
      "At Iteration : 10 / 30  ;  Mean-Squared Error : 0.044887\n",
      "At Iteration : 11 / 30  ;  Mean-Squared Error : 0.043919\n",
      "At Iteration : 12 / 30  ;  Mean-Squared Error : 0.042909\n",
      "At Iteration : 13 / 30  ;  Mean-Squared Error : 0.042313\n",
      "At Iteration : 14 / 30  ;  Mean-Squared Error : 0.041714\n",
      "At Iteration : 15 / 30  ;  Mean-Squared Error : 0.041319\n",
      "At Iteration : 16 / 30  ;  Mean-Squared Error : 0.040977\n",
      "At Iteration : 17 / 30  ;  Mean-Squared Error : 0.040675\n",
      "At Iteration : 18 / 30  ;  Mean-Squared Error : 0.040404\n",
      "At Iteration : 19 / 30  ;  Mean-Squared Error : 0.040158\n",
      "At Iteration : 20 / 30  ;  Mean-Squared Error : 0.039920\n",
      "At Iteration : 21 / 30  ;  Mean-Squared Error : 0.039702\n",
      "At Iteration : 22 / 30  ;  Mean-Squared Error : 0.039507\n",
      "At Iteration : 23 / 30  ;  Mean-Squared Error : 0.039316\n",
      "At Iteration : 24 / 30  ;  Mean-Squared Error : 0.039115\n",
      "At Iteration : 25 / 30  ;  Mean-Squared Error : 0.038757\n",
      "At Iteration : 26 / 30  ;  Mean-Squared Error : 0.038570\n",
      "At Iteration : 27 / 30  ;  Mean-Squared Error : 0.038417\n",
      "At Iteration : 28 / 30  ;  Mean-Squared Error : 0.038273\n",
      "At Iteration : 29 / 30  ;  Mean-Squared Error : 0.038134\n",
      "At Iteration : 30 / 30  ;  Mean-Squared Error : 0.037992\n",
      "Finished Training\n"
     ]
    }
   ],
   "source": [
    "iterations = 30\n",
    "BatchSize = 1000\n",
    "for epoch in range(iterations):\n",
    "    runningLoss = 0\n",
    "    for i in range(TrainImages.size()[0]/BatchSize):\n",
    "        inputs = torch.index_select(TrainImages,0,torch.linspace(i*BatchSize,(i+1)*BatchSize - 1,steps=BatchSize)\n",
    "                                  .long()).double()\n",
    "        inputs = inputs/255\n",
    "        if use_gpu:\n",
    "            inputs = Variable(inputs).cuda()\n",
    "        else:\n",
    "            inputs = Variable(inputs)\n",
    "        optimizer.zero_grad()\n",
    "        outputs = net(inputs)\n",
    "        loss = criterion(outputs, inputs)\n",
    "        loss.backward()\n",
    "        optimizer.step()\n",
    "        runningLoss += loss.data[0]\n",
    "    print('At Iteration : %d / %d  ;  Mean-Squared Error : %f'%(epoch + 1,iterations,runningLoss/\n",
    "                                                                (TrainImages.size()[0]/BatchSize)))\n",
    "print('Finished Training')"
   ]
  },
  {
   "cell_type": "code",
   "execution_count": 45,
   "metadata": {
    "collapsed": false
   },
   "outputs": [
    {
     "data": {
      "image/png": "[encoded data removed]",
      "text/plain": [
       "<matplotlib.figure.Figure at 0x7f215d3fbbd0>"
      ]
     },
     "metadata": {},
     "output_type": "display_data"
    }
   ],
   "source": [
    "TestImg = torch.index_select(TestImages,0,torch.LongTensor([1]))\n",
    "if use_gpu:\n",
    "    outputImg = net(Variable((TestImg.double().cuda())/255)).data\n",
    "    outputImg = (outputImg*255).byte()\n",
    "    outputImg = outputImg.view(-1,28,28).cpu()\n",
    "else:\n",
    "    outputImg = net(Variable((TestImg.double())/255)).data\n",
    "    outputImg = (outputImg*255).byte()\n",
    "    outputImg = outputImg.view(-1,28,28)\n",
    "\n",
    "TestImg = TestImg.view(-1,28,28)\n",
    "\n",
    "fig = plt.figure()\n",
    "plot=fig.add_subplot(1,2,1)\n",
    "img = np.array(TestImg.numpy())[0]\n",
    "plot.set_title('Original Image')\n",
    "imgplot = plt.imshow(img,cmap='gray')\n",
    "\n",
    "plot=fig.add_subplot(1,2,2)\n",
    "img = np.array(outputImg.numpy())[0]\n",
    "plot.set_title('Reconstructed Image')\n",
    "imgplot = plt.imshow(img,cmap='gray')\n",
    "plt.show()"
   ]
  },
  {
   "cell_type": "markdown",
   "metadata": {},
   "source": [
    "Remove Decoder and Add Classification Layer: \n",
    "================================"
   ]
  },
  {
   "cell_type": "code",
   "execution_count": 46,
   "metadata": {
    "collapsed": false
   },
   "outputs": [
    {
     "name": "stdout",
     "output_type": "stream",
     "text": [
      "Sequential (\n",
      "  (0): Linear (784 -> 100)\n",
      "  (1): ReLU ()\n",
      "  (classifier): Sequential (\n",
      "    (0): Linear (100 -> 10)\n",
      "    (1): LogSoftmax ()\n",
      "  )\n",
      ")\n"
     ]
    }
   ],
   "source": [
    "new_classifier = nn.Sequential(*list(net.children())[:-1])\n",
    "new_classifier = nn.Sequential(*list(new_classifier[0].children())[:-1])\n",
    "net = new_classifier\n",
    "net.add_module('classifier', nn.Sequential(nn.Linear(100, 10),nn.LogSoftmax()))\n",
    "print(net)\n",
    "if use_gpu:\n",
    "    net = net.double().cuda()\n",
    "else:\n",
    "    net = net.double()"
   ]
  },
  {
   "cell_type": "markdown",
   "metadata": {},
   "source": [
    "Define Optimizer:\n",
    "================================"
   ]
  },
  {
   "cell_type": "code",
   "execution_count": 47,
   "metadata": {
    "collapsed": true
   },
   "outputs": [],
   "source": [
    "criterion = nn.NLLLoss()\n",
    "optimizer = optim.SGD(net.parameters(), lr=0.01, momentum=0.9)"
   ]
  },
  {
   "cell_type": "markdown",
   "metadata": {},
   "source": [
    "Train Classifier:\n",
    "==========="
   ]
  },
  {
   "cell_type": "code",
   "execution_count": 48,
   "metadata": {
    "collapsed": false
   },
   "outputs": [
    {
     "name": "stdout",
     "output_type": "stream",
     "text": [
      "At Iteration: 1 / 30  ;  Training Loss: 1.604833 ; Testing Acc: 72.630000 \n",
      "At Iteration: 2 / 30  ;  Training Loss: 0.662622 ; Testing Acc: 76.590000 \n",
      "At Iteration: 3 / 30  ;  Training Loss: 0.603893 ; Testing Acc: 78.100000 \n",
      "At Iteration: 4 / 30  ;  Training Loss: 0.569004 ; Testing Acc: 79.270000 \n",
      "At Iteration: 5 / 30  ;  Training Loss: 0.543362 ; Testing Acc: 80.270000 \n",
      "At Iteration: 6 / 30  ;  Training Loss: 0.523378 ; Testing Acc: 80.910000 \n",
      "At Iteration: 7 / 30  ;  Training Loss: 0.507288 ; Testing Acc: 81.310000 \n",
      "At Iteration: 8 / 30  ;  Training Loss: 0.494022 ; Testing Acc: 81.900000 \n",
      "At Iteration: 9 / 30  ;  Training Loss: 0.482930 ; Testing Acc: 82.020000 \n",
      "At Iteration: 10 / 30  ;  Training Loss: 0.473524 ; Testing Acc: 82.290000 \n",
      "At Iteration: 11 / 30  ;  Training Loss: 0.465414 ; Testing Acc: 82.500000 \n",
      "At Iteration: 12 / 30  ;  Training Loss: 0.458358 ; Testing Acc: 82.760000 \n",
      "At Iteration: 13 / 30  ;  Training Loss: 0.452094 ; Testing Acc: 82.950000 \n",
      "At Iteration: 14 / 30  ;  Training Loss: 0.446503 ; Testing Acc: 83.200000 \n",
      "At Iteration: 15 / 30  ;  Training Loss: 0.441334 ; Testing Acc: 83.360000 \n",
      "At Iteration: 16 / 30  ;  Training Loss: 0.436487 ; Testing Acc: 83.530000 \n",
      "At Iteration: 17 / 30  ;  Training Loss: 0.431855 ; Testing Acc: 83.810000 \n",
      "At Iteration: 18 / 30  ;  Training Loss: 0.427495 ; Testing Acc: 83.900000 \n",
      "At Iteration: 19 / 30  ;  Training Loss: 0.423403 ; Testing Acc: 84.040000 \n",
      "At Iteration: 20 / 30  ;  Training Loss: 0.419590 ; Testing Acc: 84.040000 \n",
      "At Iteration: 21 / 30  ;  Training Loss: 0.416006 ; Testing Acc: 84.190000 \n",
      "At Iteration: 22 / 30  ;  Training Loss: 0.412678 ; Testing Acc: 84.340000 \n",
      "At Iteration: 23 / 30  ;  Training Loss: 0.409557 ; Testing Acc: 84.330000 \n",
      "At Iteration: 24 / 30  ;  Training Loss: 0.406559 ; Testing Acc: 84.340000 \n",
      "At Iteration: 25 / 30  ;  Training Loss: 0.403721 ; Testing Acc: 84.490000 \n",
      "At Iteration: 26 / 30  ;  Training Loss: 0.401010 ; Testing Acc: 84.530000 \n",
      "At Iteration: 27 / 30  ;  Training Loss: 0.398353 ; Testing Acc: 84.620000 \n",
      "At Iteration: 28 / 30  ;  Training Loss: 0.395807 ; Testing Acc: 84.620000 \n",
      "At Iteration: 29 / 30  ;  Training Loss: 0.393304 ; Testing Acc: 84.600000 \n",
      "At Iteration: 30 / 30  ;  Training Loss: 0.390894 ; Testing Acc: 84.690000 \n",
      "Finished Training\n"
     ]
    }
   ],
   "source": [
    "iterations = 30\n",
    "BatchSize = 1000\n",
    "for epoch in range(iterations):\n",
    "    runningLoss = 0\n",
    "    for i in range(TrainImages.size()[0]/BatchSize):\n",
    "        inputs = torch.index_select(TrainImages,0,torch.linspace(i*BatchSize,(i+1)*BatchSize - 1,steps=BatchSize)\n",
    "                                  .long()).double()\n",
    "        labels = torch.index_select(TrainLabels,0,torch.linspace(i*BatchSize,(i+1)*BatchSize - 1,steps=BatchSize)\n",
    "                                  .long()).long()\n",
    "        inputs = inputs/255\n",
    "        if use_gpu:\n",
    "            inputs, labels = Variable(inputs.cuda()), Variable(labels.cuda())\n",
    "        else:\n",
    "            inputs, labels = Variable(inputs), Variable(labels)\n",
    "        optimizer.zero_grad()\n",
    "        outputs = net(inputs)\n",
    "        loss = criterion(outputs, labels)\n",
    "        loss.backward()\n",
    "        optimizer.step()\n",
    "        runningLoss += loss.data[0]\n",
    "    inputs = TestImages.double()/255\n",
    "    if use_gpu:\n",
    "        inputs = Variable(inputs.cuda())\n",
    "        outputs = net(inputs)\n",
    "        _, predicted = torch.max(outputs.data, 1)\n",
    "        predicted = predicted.cpu()\n",
    "    else:\n",
    "        inputs = Variable(inputs)\n",
    "        outputs = net(inputs)\n",
    "        _, predicted = torch.max(outputs.data, 1)\n",
    "    correct = 0\n",
    "    total = 0\n",
    "    total += TestLabels.size(0)\n",
    "    correct += (predicted == TestLabels).sum()\n",
    "    print('At Iteration: %d / %d  ;  Training Loss: %f ; Testing Acc: %f '%(epoch + 1,iterations,runningLoss/\n",
    "                                                                            (TrainImages.size()[0]/\n",
    "                                                                             BatchSize),(100 * correct/ float(total))))\n",
    "print('Finished Training')"
   ]
  }
 ],
 "metadata": {
  "kernelspec": {
   "display_name": "Python 2",
   "language": "python",
   "name": "python2"
  },
  "language_info": {
   "codemirror_mode": {
    "name": "ipython",
    "version": 2
   },
   "file_extension": ".py",
   "mimetype": "text/x-python",
   "name": "python",
   "nbconvert_exporter": "python",
   "pygments_lexer": "ipython2",
   "version": "2.7.13"
  }
 },
 "nbformat": 4,
 "nbformat_minor": 0
}
